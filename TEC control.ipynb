{
 "cells": [
  {
   "cell_type": "code",
   "execution_count": 6,
   "metadata": {},
   "outputs": [],
   "source": [
    "import logging\n",
    "from mecom import MeCom, ResponseException, WrongChecksum\n",
    "from serial import SerialException\n",
    "import time\n",
    "from threading import Thread"
   ]
  },
  {
   "cell_type": "code",
   "execution_count": 7,
   "metadata": {},
   "outputs": [],
   "source": [
    "import ipywidgets as widgets\n",
    "from IPython.display import display"
   ]
  },
  {
   "cell_type": "code",
   "execution_count": 8,
   "metadata": {},
   "outputs": [],
   "source": [
    "from mecom.commands import PARAMETERS"
   ]
  },
  {
   "cell_type": "markdown",
   "metadata": {},
   "source": [
    "## Open device"
   ]
  },
  {
   "cell_type": "code",
   "execution_count": 9,
   "metadata": {},
   "outputs": [],
   "source": [
    "dev = MeCom(\"/dev/ttyUSB0\")\n",
    "address = dev.identify()"
   ]
  },
  {
   "cell_type": "code",
   "execution_count": 10,
   "metadata": {},
   "outputs": [],
   "source": [
    "queries = [i for i in PARAMETERS if i[\"id\"]<2000 and i[\"id\"]>=1000]\n",
    "status, i_lim, u_lim, set_T = [i for i in PARAMETERS if i[\"id\"]==3000 or i[\"id\"]==2010 or i[\"id\"]==2030 or i[\"id\"]==2031]"
   ]
  },
  {
   "cell_type": "code",
   "execution_count": 11,
   "metadata": {},
   "outputs": [
    {
     "data": {
      "text/plain": [
       "[{'format': 'FLOAT32', 'id': 1000, 'name': 'Object Temperature'},\n",
       " {'format': 'FLOAT32', 'id': 1001, 'name': 'Sink Temperature'},\n",
       " {'format': 'FLOAT32', 'id': 1010, 'name': 'Target Object Temperature'},\n",
       " {'format': 'FLOAT32', 'id': 1011, 'name': 'Ramp Object Temperature'},\n",
       " {'format': 'FLOAT32', 'id': 1020, 'name': 'Actual Output Current'},\n",
       " {'format': 'FLOAT32', 'id': 1021, 'name': 'Actual Output Voltage'},\n",
       " {'format': 'INT32', 'id': 1046, 'name': 'Object Sensor Type'},\n",
       " {'format': 'INT32', 'id': 1200, 'name': 'Temperature is Stable'}]"
      ]
     },
     "execution_count": 11,
     "metadata": {},
     "output_type": "execute_result"
    }
   ],
   "source": [
    "queries"
   ]
  },
  {
   "cell_type": "code",
   "execution_count": 12,
   "metadata": {},
   "outputs": [],
   "source": [
    "query_widgets = []\n",
    "style = {'description_width': 'initial'}\n",
    "for i in queries:\n",
    "    query_widgets.append(widgets.FloatText(description=i[\"name\"], disabled=True, style=style))\n",
    "readout = widgets.VBox(query_widgets)\n",
    "\n",
    "enable = widgets.ToggleButton(\n",
    "                             value=False,\n",
    "                             description='Start',\n",
    "                             disabled=False,\n",
    "                             button_style='', # 'success', 'info', 'warning', 'danger' or ''\n",
    "                             tooltip='Enable T Control',\n",
    "                             icon='check'\n",
    "                             )\n",
    "\n",
    "setpoint = widgets.BoundedFloatText(value=20, min=10, max=35, step=0.1,\n",
    "                                    description=\"T setpoint\", continuous_update=False)\n",
    "\n",
    "i_lim_set = widgets.BoundedFloatText(value=1.0, min=0.5, max=1.5, step=0.1,\n",
    "                                     description=\"Current Limit\", continuous_update=False)\n",
    "u_lim_set = widgets.BoundedFloatText(value=8.5, min=5.0, max=9.0, step=0.1,\n",
    "                                     description=\"Voltage Limit\", continuous_update=False)\n",
    "\n",
    "confirm = widgets.Button(description='Set',\n",
    "                         disabled=False,\n",
    "                         button_style='', # 'success', 'info', 'warning', 'danger' or ''\n",
    "                         tooltip='Send parameters to TEC',\n",
    "                         icon='check')\n",
    "\n",
    "settings = widgets.HBox([widgets.VBox([setpoint, i_lim_set, u_lim_set]), confirm])"
   ]
  },
  {
   "cell_type": "code",
   "execution_count": 13,
   "metadata": {},
   "outputs": [],
   "source": [
    "settings_dict = {set_T[\"id\"]: setpoint, i_lim[\"id\"]: i_lim_set, u_lim[\"id\"]: u_lim_set}"
   ]
  },
  {
   "cell_type": "code",
   "execution_count": 14,
   "metadata": {
    "scrolled": false
   },
   "outputs": [
    {
     "data": {
      "application/vnd.jupyter.widget-view+json": {
       "model_id": "8d1acb83a48641fda31818f48deed7f4",
       "version_major": 2,
       "version_minor": 0
      },
      "text/plain": [
       "VBox(children=(FloatText(value=0.0, description='Object Temperature', disabled=True, style=DescriptionStyle(de…"
      ]
     },
     "metadata": {},
     "output_type": "display_data"
    },
    {
     "data": {
      "application/vnd.jupyter.widget-view+json": {
       "model_id": "5adcbdf986e14280b3c1198133eae89a",
       "version_major": 2,
       "version_minor": 0
      },
      "text/plain": [
       "HBox(children=(VBox(children=(BoundedFloatText(value=20.0, description='T setpoint', max=35.0, min=10.0, step=…"
      ]
     },
     "metadata": {},
     "output_type": "display_data"
    },
    {
     "data": {
      "application/vnd.jupyter.widget-view+json": {
       "model_id": "951684fefd7449bb8edd9cc832c9c11a",
       "version_major": 2,
       "version_minor": 0
      },
      "text/plain": [
       "ToggleButton(value=False, description='Start', icon='check', tooltip='Enable T Control')"
      ]
     },
     "metadata": {},
     "output_type": "display_data"
    }
   ],
   "source": [
    "display(readout)\n",
    "display(settings)\n",
    "display(enable)"
   ]
  },
  {
   "cell_type": "code",
   "execution_count": 15,
   "metadata": {},
   "outputs": [],
   "source": [
    "def get_temp():\n",
    "    confirm.on_click(on_confirm)\n",
    "    while getattr(t_t, \"do_run\", True):\n",
    "        if getattr(t_t, \"cap\", True):\n",
    "            try:\n",
    "                for idx,i in enumerate(queries):\n",
    "                    query_widgets[idx].value = dev.get_parameter(parameter_id=i[\"id\"], address=address, parameter_instance=1)\n",
    "            except:\n",
    "                time.sleep(0.1)\n",
    "        else:\n",
    "            time.sleep(0.1)\n",
    "            \n",
    "def on_confirm(new_val):\n",
    "    if not enable.value:\n",
    "        time.sleep(0.1)\n",
    "        t_t.cap = False\n",
    "        for i in [set_T, i_lim, u_lim]:\n",
    "            time.sleep(0.1)\n",
    "            dev.set_parameter(parameter_id=i[\"id\"], \n",
    "                              value=settings_dict[i[\"id\"]].value, \n",
    "                              address=address, \n",
    "                              parameter_instance=1)\n",
    "        t_t.cap = True\n",
    "    else:\n",
    "        print(\"Can't set during operation.\")\n",
    "        \n",
    "def on_set(change):\n",
    "    t_t.cap = False\n",
    "    time.sleep(0.1)\n",
    "    setter = int(change[\"new\"])\n",
    "    dev.set_parameter(parameter_id=status[\"id\"], \n",
    "                     value=setter, \n",
    "                     address=address, \n",
    "                     parameter_instance=1)\n",
    "    t_t.cap = True\n",
    "\n",
    "t_t = Thread(target=get_temp)\n",
    "t_t.daemon = True\n",
    "t_t.cap = True\n",
    "t_t.start()\n",
    "\n",
    "enable.observe(on_set, names='value')"
   ]
  },
  {
   "cell_type": "code",
   "execution_count": 16,
   "metadata": {},
   "outputs": [],
   "source": [
    "t_t.do_run = False\n",
    "t_t.join()\n",
    "dev.stop()"
   ]
  },
  {
   "cell_type": "code",
   "execution_count": null,
   "metadata": {},
   "outputs": [],
   "source": []
  }
 ],
 "metadata": {
  "kernelspec": {
   "display_name": "Python 3",
   "language": "python",
   "name": "python3"
  },
  "language_info": {
   "codemirror_mode": {
    "name": "ipython",
    "version": 3
   },
   "file_extension": ".py",
   "mimetype": "text/x-python",
   "name": "python",
   "nbconvert_exporter": "python",
   "pygments_lexer": "ipython3",
   "version": "3.6.5"
  }
 },
 "nbformat": 4,
 "nbformat_minor": 2
}
